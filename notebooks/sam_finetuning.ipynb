{
 "cells": [
  {
   "cell_type": "markdown",
   "id": "a09b453c",
   "metadata": {},
   "source": [
    "# Finetuning Segment Anything with `µsam`\n",
    "\n",
    "This notebook shows how to use Segment Anything for Microscopy to fine-tune a Segment Anything Model (SAM) on your custom data.\n",
    "\n",
    "We use DIC microscopy images from the Cell Tracking Challenge, DIC-C2DH-HeLa, HeLa cells on a flat glass (from [Maška et al.](https://www.nature.com/articles/s41592-023-01879-y)) in this notebook. The functionalities shown here should work for your (microscopy) images too."
   ]
  },
  {
   "cell_type": "markdown",
   "id": "2c0e3ff1",
   "metadata": {},
   "source": [
    "## Running this notebook\n",
    "\n",
    "If you have an environment with `µsam` on your computer you can run this notebook in there. You can follow the [installation instructions](https://computational-cell-analytics.github.io/micro-sam/micro_sam.html#installation) to install it on your computer.\n",
    "\n",
    "You can also run this notebook in the cloud on [Kaggle Notebooks](https://www.kaggle.com/code/). This service offers free usage of a GPU to speed up running the code. The next cells will take care of the installation for you if you are using it."
   ]
  },
  {
   "cell_type": "code",
   "execution_count": null,
   "id": "461c1011",
   "metadata": {
    "collapsed": false,
    "execution": {
     "iopub.execute_input": "2024-05-19T12:16:13.886094Z",
     "iopub.status.busy": "2024-05-19T12:16:13.885273Z",
     "iopub.status.idle": "2024-05-19T12:16:13.899589Z",
     "shell.execute_reply": "2024-05-19T12:16:13.898665Z",
     "shell.execute_reply.started": "2024-05-19T12:16:13.886049Z"
    },
    "jupyter": {
     "outputs_hidden": false
    }
   },
   "outputs": [],
   "source": [
    "# Check if we are running this notebook on kaggle, google colab or local compute resources.\n",
    "\n",
    "import os\n",
    "current_spot = os.getcwd()\n",
    "\n",
    "if current_spot.startswith(\"/kaggle/working\"):\n",
    "    print(\"Kaggle says hi!\")\n",
    "    root_dir = \"/kaggle/working\"\n",
    "\n",
    "elif current_spot.startswith(\"/content\"):\n",
    "    print(\"Google Colab says hi!\")\n",
    "    print(\" NOTE: The scripts have not been tested on Google Colab, you might need to adapt the installations a bit.\")\n",
    "    root_dir = \"/content\"\n",
    "\n",
    "    # You might need to install condacolab on Google Colab to be able to install packages using conda / mamba\n",
    "    # !pip install -q condacolab\n",
    "    # import condacolab\n",
    "    # condacolab.install()\n",
    "\n",
    "else:\n",
    "    msg = \"You are using a behind-the-scenes resource. Follow our installation instructions here:\"\n",
    "    msg += \" https://computational-cell-analytics.github.io/micro-sam/micro_sam.html#installation\"\n",
    "    print(msg)\n",
    "    root_dir = \"\"  # overwrite to set the root directory, where the data, checkpoints, and all relevant stuff will be stored"
   ]
  },
  {
   "cell_type": "markdown",
   "id": "c50428d8",
   "metadata": {},
   "source": [
    "### Installation\n",
    "\n",
    "The next cells will install the `micro_sam` library on Kaggle Notebooks. **Please skip these cells and go to `Importing the libraries` if you are running the notebook on your own computer.**"
   ]
  },
  {
   "cell_type": "code",
   "execution_count": null,
   "id": "111bfb0e",
   "metadata": {
    "_cell_guid": "b1076dfc-b9ad-4769-8c92-a6c4dae69d19",
    "_uuid": "8f2839f25d086af736a60e9eeb907d3b93b6e0e5",
    "collapsed": false,
    "execution": {
     "iopub.execute_input": "2024-05-19T12:16:14.754290Z",
     "iopub.status.busy": "2024-05-19T12:16:14.753951Z",
     "iopub.status.idle": "2024-05-19T12:16:44.787418Z",
     "shell.execute_reply": "2024-05-19T12:16:44.786334Z",
     "shell.execute_reply.started": "2024-05-19T12:16:14.754262Z"
    },
    "jupyter": {
     "outputs_hidden": false
    }
   },
   "outputs": [],
   "source": [
    "!git clone --quiet https://github.com/computational-cell-analytics/micro-sam.git\n",
    "tmp_dir = os.path.join(root_dir, \"micro-sam\")\n",
    "!pip install --quiet $tmp_dir"
   ]
  },
  {
   "cell_type": "code",
   "execution_count": null,
   "id": "7f0ddd6f",
   "metadata": {
    "collapsed": false,
    "execution": {
     "iopub.execute_input": "2024-05-19T12:16:44.789767Z",
     "iopub.status.busy": "2024-05-19T12:16:44.789467Z",
     "iopub.status.idle": "2024-05-19T12:17:01.400091Z",
     "shell.execute_reply": "2024-05-19T12:17:01.398706Z",
     "shell.execute_reply.started": "2024-05-19T12:16:44.789738Z"
    },
    "jupyter": {
     "outputs_hidden": false
    }
   },
   "outputs": [],
   "source": [
    "!git clone --quiet https://github.com/constantinpape/torch-em.git\n",
    "tmp_dir = os.path.join(root_dir, \"torch-em\")\n",
    "!pip install --quiet $tmp_dir"
   ]
  },
  {
   "cell_type": "code",
   "execution_count": null,
   "id": "6e712a3f",
   "metadata": {
    "collapsed": false,
    "execution": {
     "iopub.execute_input": "2024-05-19T12:17:01.401852Z",
     "iopub.status.busy": "2024-05-19T12:17:01.401540Z",
     "iopub.status.idle": "2024-05-19T12:17:17.979603Z",
     "shell.execute_reply": "2024-05-19T12:17:17.978503Z",
     "shell.execute_reply.started": "2024-05-19T12:17:01.401821Z"
    },
    "jupyter": {
     "outputs_hidden": false
    }
   },
   "outputs": [],
   "source": [
    "!git clone --quiet https://github.com/constantinpape/elf.git\n",
    "tmp_dir = os.path.join(root_dir, \"elf\")\n",
    "!pip install --quiet $tmp_dir"
   ]
  },
  {
   "cell_type": "markdown",
   "id": "ce5054bc",
   "metadata": {},
   "source": [
    "Known Issues on **Kaggle Notebooks**:\n",
    "\n",
    "1. `warning  libmamba Cache file \"/opt/conda/pkgs/cache/2ce54b42.json\" was modified by another program` (multiples lines of such warnings)\n",
    "    - We have received this warning while testing this notebook on Kaggle. It does not lead to any issues while making use of the installed packages. You can proceed and ignore the warnings."
   ]
  },
  {
   "cell_type": "code",
   "execution_count": null,
   "id": "1e8862db",
   "metadata": {
    "collapsed": false,
    "execution": {
     "iopub.execute_input": "2024-05-19T12:17:17.982063Z",
     "iopub.status.busy": "2024-05-19T12:17:17.981740Z",
     "iopub.status.idle": "2024-05-19T12:18:42.782082Z",
     "shell.execute_reply": "2024-05-19T12:18:42.780936Z",
     "shell.execute_reply.started": "2024-05-19T12:17:17.982032Z"
    },
    "jupyter": {
     "outputs_hidden": false
    }
   },
   "outputs": [],
   "source": [
    "!mamba install -q -y -c conda-forge nifty affogato zarr z5py\n",
    "!pip uninstall -y --quiet qtpy  # qtpy is not supported in Kaggle / Google Colab, let's remove it to avoid errors."
   ]
  },
  {
   "cell_type": "markdown",
   "id": "590138ff",
   "metadata": {},
   "source": [
    "### Importing the libraries"
   ]
  },
  {
   "cell_type": "code",
   "execution_count": null,
   "id": "ae7186f2",
   "metadata": {
    "collapsed": false,
    "execution": {
     "iopub.execute_input": "2024-05-19T12:18:42.784066Z",
     "iopub.status.busy": "2024-05-19T12:18:42.783690Z",
     "iopub.status.idle": "2024-05-19T12:19:02.167745Z",
     "shell.execute_reply": "2024-05-19T12:19:02.166754Z",
     "shell.execute_reply.started": "2024-05-19T12:18:42.784025Z"
    },
    "jupyter": {
     "outputs_hidden": false
    }
   },
   "outputs": [],
   "source": [
    "from glob import glob\n",
    "from IPython.display import FileLink\n",
    "\n",
    "import numpy as np\n",
    "import imageio.v3 as imageio\n",
    "from matplotlib import pyplot as plt\n",
    "from skimage.measure import label as connected_components\n",
    "\n",
    "import torch\n",
    "\n",
    "import torch_em\n",
    "from torch_em.model import UNETR\n",
    "from torch_em.util.debug import check_loader\n",
    "from torch_em.loss import DiceBasedDistanceLoss\n",
    "from torch_em.util.util import get_random_colors\n",
    "from torch_em.transform.label import PerObjectDistanceTransform\n",
    "\n",
    "from micro_sam import util\n",
    "import micro_sam.training as sam_training\n",
    "from micro_sam.sample_data import fetch_tracking_example_data, fetch_tracking_segmentation_data\n",
    "from micro_sam.instance_segmentation import (\n",
    "    InstanceSegmentationWithDecoder,\n",
    "    get_predictor_and_decoder,\n",
    "    mask_data_to_segmentation\n",
    ")"
   ]
  },
  {
   "cell_type": "markdown",
   "id": "6bfa49ad",
   "metadata": {},
   "source": [
    "### Let's download the dataset"
   ]
  },
  {
   "cell_type": "code",
   "execution_count": null,
   "id": "7900ba1e",
   "metadata": {
    "collapsed": false,
    "execution": {
     "iopub.execute_input": "2024-05-19T12:19:02.169467Z",
     "iopub.status.busy": "2024-05-19T12:19:02.169092Z",
     "iopub.status.idle": "2024-05-19T12:19:04.695581Z",
     "shell.execute_reply": "2024-05-19T12:19:04.694724Z",
     "shell.execute_reply.started": "2024-05-19T12:19:02.169434Z"
    },
    "jupyter": {
     "outputs_hidden": false
    },
    "scrolled": true
   },
   "outputs": [],
   "source": [
    "DATA_FOLDER = os.path.join(root_dir, \"data\")\n",
    "os.makedirs(DATA_FOLDER, exist_ok=True)\n",
    "\n",
    "# This will download the image and segmentation data for training.\n",
    "image_dir = fetch_tracking_example_data(DATA_FOLDER)\n",
    "segmentation_dir = fetch_tracking_segmentation_data(DATA_FOLDER)"
   ]
  },
  {
   "cell_type": "markdown",
   "id": "7b6d986c",
   "metadata": {},
   "source": [
    "### Let's create the dataloaders\n",
    "\n",
    "Our task is to segment HeLa cells on a flat glass in DIC microscopic images. The dataset comes from https://celltrackingchallenge.net/2d-datasets/, and the dataloader has been implemented in [torch-em](https://github.com/constantinpape/torch-em/blob/main/torch_em/data/datasets/ctc.py)."
   ]
  },
  {
   "cell_type": "markdown",
   "id": "4f300d7c",
   "metadata": {},
   "source": [
    "#### First, let's visualize how our samples look."
   ]
  },
  {
   "cell_type": "code",
   "execution_count": null,
   "id": "ac98892c",
   "metadata": {
    "collapsed": false,
    "execution": {
     "iopub.execute_input": "2024-05-19T12:20:28.724152Z",
     "iopub.status.busy": "2024-05-19T12:20:28.723351Z",
     "iopub.status.idle": "2024-05-19T12:20:29.036054Z",
     "shell.execute_reply": "2024-05-19T12:20:29.035189Z",
     "shell.execute_reply.started": "2024-05-19T12:20:28.724119Z"
    },
    "jupyter": {
     "outputs_hidden": false
    }
   },
   "outputs": [],
   "source": [
    "image_paths = sorted(glob(os.path.join(image_dir, \"*\")))\n",
    "segmentation_paths = sorted(glob(os.path.join(segmentation_dir, \"*\")))\n",
    "\n",
    "for image_path, segmentation_path in zip(image_paths, segmentation_paths):\n",
    "    image = imageio.imread(image_path)\n",
    "    segmentation = imageio.imread(segmentation_path)\n",
    "\n",
    "    fig, ax = plt.subplots(1, 2, figsize=(10, 10))\n",
    "    ax[0].imshow(image, cmap=\"gray\")\n",
    "    ax[0].set_title(\"Input Image\")\n",
    "    ax[0].axis(\"off\")\n",
    "    \n",
    "    segmentation = connected_components(segmentation)\n",
    "    ax[1].imshow(segmentation, cmap=get_random_colors(segmentation), interpolation=\"nearest\")\n",
    "    ax[1].set_title(\"Ground Truth Instances\")\n",
    "    ax[1].axis(\"off\")\n",
    "    \n",
    "    plt.show()\n",
    "    plt.close()\n",
    "    \n",
    "    break  # comment this out in case you want to visualize all the images"
   ]
  },
  {
   "cell_type": "markdown",
   "id": "4bc82cfa",
   "metadata": {},
   "source": [
    "#### Next, let's create the dataloaders"
   ]
  },
  {
   "cell_type": "code",
   "execution_count": null,
   "id": "057712cc",
   "metadata": {
    "collapsed": false,
    "execution": {
     "iopub.execute_input": "2024-05-19T12:20:32.957168Z",
     "iopub.status.busy": "2024-05-19T12:20:32.956462Z",
     "iopub.status.idle": "2024-05-19T12:20:32.962567Z",
     "shell.execute_reply": "2024-05-19T12:20:32.961677Z",
     "shell.execute_reply.started": "2024-05-19T12:20:32.957137Z"
    },
    "jupyter": {
     "outputs_hidden": false
    }
   },
   "outputs": [],
   "source": [
    "# torch_em.default_segmentation_loader is a convenience function to build a torch dataloader\n",
    "# from image data and labels for training segmentation models.\n",
    "# It supports image data in various formats. Here, we load image data and labels from the two\n",
    "# folders with tif images that were downloaded by the example data functionality, by specifying\n",
    "# `raw_key` and `label_key` as `*.tif`. This means all images in the respective folders that end with\n",
    "# .tif will be loadded.\n",
    "# The function supports many other file formats. For example, if you have tif stacks with multiple slices\n",
    "# instead of multiple tif images in a foldder, then you can pass raw_key=label_key=None.\n",
    "# For more information, here is the documentation: https://github.com/constantinpape/torch-em/blob/main/torch_em/data/datasets/README.md\n",
    "\n",
    "# Load images from multiple files in folder via pattern (here: all tif files)\n",
    "raw_key, label_key = \"*.tif\", \"*.tif\"\n",
    "\n",
    "# Alternative: if you have tif stacks you can just set raw_key and label_key to None\n",
    "# raw_key, label_key= None, None\n",
    "\n",
    "# The 'roi' argument can be used to subselect parts of the data.\n",
    "# Here, we use it to select the first 70 images (frames) for the train split and the other frames for the val split.\n",
    "train_roi = np.s_[:70, :, :]\n",
    "val_roi = np.s_[70:, :, :]"
   ]
  },
  {
   "cell_type": "markdown",
   "id": "2a64d5da",
   "metadata": {},
   "source": [
    "#### Label Transform\n",
    "\n",
    "The idea here is to convert the ground-truth to the desired instance for finetuning Segment Anything, and in addition if desired, to learn the foreground and distances to the object centers and object boundaries."
   ]
  },
  {
   "cell_type": "code",
   "execution_count": null,
   "id": "91a0343c",
   "metadata": {
    "collapsed": false,
    "execution": {
     "iopub.execute_input": "2024-05-19T12:20:33.822427Z",
     "iopub.status.busy": "2024-05-19T12:20:33.821592Z",
     "iopub.status.idle": "2024-05-19T12:20:33.828930Z",
     "shell.execute_reply": "2024-05-19T12:20:33.828102Z",
     "shell.execute_reply.started": "2024-05-19T12:20:33.822371Z"
    },
    "jupyter": {
     "outputs_hidden": false
    }
   },
   "outputs": [],
   "source": [
    "class LabelTransform:\n",
    "    def __init__(self, train_instance_segmentation):\n",
    "        self.train_instance_segmentation = train_instance_segmentation\n",
    "        \n",
    "    def __call__(self, labels):\n",
    "        if self.train_instance_segmentation:\n",
    "            # Computes the distance transform for objects to jointly perform the additional decoder-based automatic instance segmentation (AIS) and finetune Segment Anything.\n",
    "            label_transform = PerObjectDistanceTransform(\n",
    "                distances=True,\n",
    "                boundary_distances=True,\n",
    "                directed_distances=False,\n",
    "                foreground=True,\n",
    "                instances=True,\n",
    "                min_size=25\n",
    "            )\n",
    "        else:\n",
    "            # Ensures the individual object instances.to finetune the clasiscal Segment Anything.\n",
    "            label_transform = torch_em.transform.label.connected_components\n",
    "\n",
    "        labels = label_transform(labels)\n",
    "        return labels"
   ]
  },
  {
   "cell_type": "code",
   "execution_count": null,
   "id": "570f2fda",
   "metadata": {
    "collapsed": false,
    "execution": {
     "iopub.execute_input": "2024-05-19T12:20:34.551091Z",
     "iopub.status.busy": "2024-05-19T12:20:34.550279Z",
     "iopub.status.idle": "2024-05-19T12:20:34.742544Z",
     "shell.execute_reply": "2024-05-19T12:20:34.741636Z",
     "shell.execute_reply.started": "2024-05-19T12:20:34.551062Z"
    },
    "jupyter": {
     "outputs_hidden": false
    }
   },
   "outputs": [],
   "source": [
    "# The script below returns the train or val data loader for finetuning SAM.\n",
    "\n",
    "# The data loader must be a torch data loader that returns `x, y` tensors,\n",
    "# where `x` is the image data and `y` are the labels.\n",
    "# The labels have to be in a label mask instance segmentation format.\n",
    "# i.e. a tensor of the same spatial shape as `x`, with each object mask having its own ID.\n",
    "# Important: the ID 0 is reseved for background, and the IDs must be consecutive\n",
    "\n",
    "# Here, we use `torch_em.default_segmentation_loader` for creating a suitable data loader from\n",
    "# the example hela data. You can either adapt this for your own data or write a suitable torch dataloader yourself.\n",
    "# Here's a quickstart notebook to create your own dataloaders: https://github.com/constantinpape/torch-em/blob/main/notebooks/tutorial_create_dataloaders.ipynb\n",
    "\n",
    "batch_size = 1  # the training batch size\n",
    "patch_shape = (1, 512, 512)  # the size of patches for training\n",
    "\n",
    "# Train an additional convolutional decoder for end-to-end automatic instance segmentation\n",
    "train_instance_segmentation = True\n",
    "\n",
    "label_transform = LabelTransform(train_instance_segmentation)\n",
    "\n",
    "train_loader = torch_em.default_segmentation_loader(\n",
    "    raw_paths=image_dir,\n",
    "    raw_key=raw_key,\n",
    "    label_paths=segmentation_dir,\n",
    "    label_key=label_key,\n",
    "    patch_shape=patch_shape,\n",
    "    batch_size=batch_size,\n",
    "    ndim=2,\n",
    "    is_seg_dataset=True,\n",
    "    rois=train_roi,\n",
    "    label_transform=label_transform,\n",
    "    shuffle=True,\n",
    "    raw_transform=sam_training.identity,\n",
    ")\n",
    "val_loader = torch_em.default_segmentation_loader(\n",
    "    raw_paths=image_dir,\n",
    "    raw_key=raw_key,\n",
    "    label_paths=segmentation_dir,\n",
    "    label_key=label_key,\n",
    "    patch_shape=patch_shape,\n",
    "    batch_size=batch_size,\n",
    "    ndim=2,\n",
    "    is_seg_dataset=True,\n",
    "    rois=val_roi,\n",
    "    label_transform=label_transform,\n",
    "    shuffle=True,\n",
    "    raw_transform=sam_training.identity,\n",
    ")"
   ]
  },
  {
   "cell_type": "code",
   "execution_count": null,
   "id": "bd0ccb3c",
   "metadata": {
    "collapsed": false,
    "execution": {
     "iopub.execute_input": "2024-05-19T12:20:48.120186Z",
     "iopub.status.busy": "2024-05-19T12:20:48.119696Z",
     "iopub.status.idle": "2024-05-19T12:20:51.685811Z",
     "shell.execute_reply": "2024-05-19T12:20:51.684721Z",
     "shell.execute_reply.started": "2024-05-19T12:20:48.120142Z"
    },
    "jupyter": {
     "outputs_hidden": false
    }
   },
   "outputs": [],
   "source": [
    "# Let's check how our samples look from the dataloader\n",
    "check_loader(train_loader, 4, plt=True)"
   ]
  },
  {
   "cell_type": "markdown",
   "id": "dad077c8",
   "metadata": {},
   "source": [
    "### Run the actual model finetuning"
   ]
  },
  {
   "cell_type": "code",
   "execution_count": null,
   "id": "09332b59",
   "metadata": {
    "collapsed": false,
    "execution": {
     "iopub.execute_input": "2024-05-19T12:21:06.550973Z",
     "iopub.status.busy": "2024-05-19T12:21:06.550247Z",
     "iopub.status.idle": "2024-05-19T12:21:06.556209Z",
     "shell.execute_reply": "2024-05-19T12:21:06.555233Z",
     "shell.execute_reply.started": "2024-05-19T12:21:06.550938Z"
    },
    "jupyter": {
     "outputs_hidden": false
    }
   },
   "outputs": [],
   "source": [
    "# All hyperparameters for training.\n",
    "n_objects_per_batch = 5  # the number of objects per batch that will be sampled\n",
    "device = \"cuda\" if torch.cuda.is_available() else \"cpu\" # the device/GPU used for training\n",
    "n_epochs = 10  # how long we train (in epochs)\n",
    "\n",
    "# The model_type determines which base model is used to initialize the weights that are finetuned.\n",
    "# We use vit_b here because it can be trained faster. Note that vit_h usually yields higher quality results.\n",
    "model_type = \"vit_b\"\n",
    "\n",
    "# The name of the checkpoint. The checkpoints will be stored in './checkpoints/<checkpoint_name>'\n",
    "checkpoint_name = \"sam_hela\""
   ]
  },
  {
   "cell_type": "markdown",
   "id": "96431f87",
   "metadata": {},
   "source": [
    "**NOTE**: The user needs to decide whether to finetune the Segment Anything model, or the `µsam`'s \"finetuned microscopy models\" for their dataset. Here, we finetune on the Segment Anything model for simplicity. For example, if you choose to finetune the model from the light microscopy generalist models, you need to update the `model_type` to `vit_b_lm` and it takes care of initializing the model with the desired weights)"
   ]
  },
  {
   "cell_type": "code",
   "execution_count": null,
   "id": "b0f70172",
   "metadata": {
    "collapsed": false,
    "execution": {
     "iopub.execute_input": "2024-05-19T12:21:07.248004Z",
     "iopub.status.busy": "2024-05-19T12:21:07.247277Z",
     "iopub.status.idle": "2024-05-19T12:51:16.306253Z",
     "shell.execute_reply": "2024-05-19T12:51:16.305207Z",
     "shell.execute_reply.started": "2024-05-19T12:21:07.247969Z"
    },
    "jupyter": {
     "outputs_hidden": false
    }
   },
   "outputs": [],
   "source": [
    "# Run training\n",
    "sam_training.train_sam(\n",
    "    name=checkpoint_name,\n",
    "    save_root=os.path.join(root_dir, \"models\"),\n",
    "    model_type=model_type,\n",
    "    train_loader=train_loader,\n",
    "    val_loader=val_loader,\n",
    "    n_epochs=n_epochs,\n",
    "    n_objects_per_batch=n_objects_per_batch,\n",
    "    with_segmentation_decoder=train_instance_segmentation,\n",
    "    device=device,\n",
    ")"
   ]
  },
  {
   "cell_type": "code",
   "execution_count": null,
   "id": "ad03e0ca",
   "metadata": {
    "collapsed": false,
    "execution": {
     "iopub.execute_input": "2024-05-19T12:51:16.308996Z",
     "iopub.status.busy": "2024-05-19T12:51:16.308591Z",
     "iopub.status.idle": "2024-05-19T12:51:16.316641Z",
     "shell.execute_reply": "2024-05-19T12:51:16.315802Z",
     "shell.execute_reply.started": "2024-05-19T12:51:16.308962Z"
    },
    "jupyter": {
     "outputs_hidden": false
    }
   },
   "outputs": [],
   "source": [
    "# Let's spot our best checkpoint and download it to get started with the annotation tool\n",
    "best_checkpoint = os.path.join(\"models\", \"checkpoints\", checkpoint_name, \"best.pt\")\n",
    "\n",
    "# # Download link is automatically generated for the best model.\n",
    "print(\"Click here\\u2193\")\n",
    "FileLink(best_checkpoint)"
   ]
  },
  {
   "cell_type": "markdown",
   "id": "33e48cb8",
   "metadata": {},
   "source": [
    "### Let's run the automatic instance segmentation (AIS)"
   ]
  },
  {
   "cell_type": "code",
   "execution_count": null,
   "id": "fa48366f",
   "metadata": {
    "collapsed": false,
    "execution": {
     "iopub.execute_input": "2024-05-19T12:51:16.318552Z",
     "iopub.status.busy": "2024-05-19T12:51:16.317960Z",
     "iopub.status.idle": "2024-05-19T12:51:16.328260Z",
     "shell.execute_reply": "2024-05-19T12:51:16.327416Z",
     "shell.execute_reply.started": "2024-05-19T12:51:16.318519Z"
    },
    "jupyter": {
     "outputs_hidden": false
    }
   },
   "outputs": [],
   "source": [
    "def run_automatic_instance_segmentation(image, checkpoint_path, model_type=\"vit_b_lm\", device=None):\n",
    "    \"\"\"Automatic Instance Segmentation by training an additional instance decoder in SAM.\n",
    "\n",
    "    NOTE: It is supported only for `µsam` models.\n",
    "    \n",
    "    Args:\n",
    "        image: The input image.\n",
    "        model_type: The choice of the `µsam` model.\n",
    "        \n",
    "    Returns:\n",
    "        The instance segmentation.\n",
    "    \"\"\"\n",
    "    # Step 1: Initialize the model attributes using the finetuned µsam model weights.\n",
    "    #   - the 'predictor' object for generating predictions using the Segment Anything model.\n",
    "    #   - the 'decoder' backbone (for AIS).\n",
    "    predictor, decoder = get_predictor_and_decoder(\n",
    "        model_type=model_type,  # choice of the Segment Anything model\n",
    "        checkpoint_path=checkpoint_path,  # overwrite to pass our own finetuned model\n",
    "        device=device,  # the device to run the model inference\n",
    "    )\n",
    "    \n",
    "    # Step 2: Computation of the image embeddings from the vision transformer-based image encoder.\n",
    "    image_embeddings = util.precompute_image_embeddings(\n",
    "        predictor=predictor,  # the predictor object responsible for generating predictions\n",
    "        input_=image,  # the input image\n",
    "        ndim=2,  # number of input dimensions\n",
    "    )\n",
    "    \n",
    "    # Step 3: Combining the decoder with the Segment Anything backbone for automatic instance segmentation.\n",
    "    ais = InstanceSegmentationWithDecoder(predictor, decoder)\n",
    "    \n",
    "    # Step 4: Initializing the precomputed image embeddings to perform faster automatic instance segmentation.\n",
    "    ais.initialize(\n",
    "        image=image,  # the input image\n",
    "        image_embeddings=image_embeddings,  # precomputed image embeddings\n",
    "    )\n",
    "\n",
    "    # Step 5: Getting automatic instance segmentations for the given image and applying the relevant post-processing steps.\n",
    "    prediction = ais.generate()\n",
    "    prediction = mask_data_to_segmentation(prediction, with_background=True)\n",
    "    \n",
    "    return prediction"
   ]
  },
  {
   "cell_type": "code",
   "execution_count": null,
   "id": "50037c8c",
   "metadata": {
    "collapsed": false,
    "execution": {
     "iopub.execute_input": "2024-05-19T12:51:16.330729Z",
     "iopub.status.busy": "2024-05-19T12:51:16.330078Z",
     "iopub.status.idle": "2024-05-19T12:51:19.308560Z",
     "shell.execute_reply": "2024-05-19T12:51:19.307547Z",
     "shell.execute_reply.started": "2024-05-19T12:51:16.330703Z"
    },
    "jupyter": {
     "outputs_hidden": false
    }
   },
   "outputs": [],
   "source": [
    "zip_path = os.path.join(root_dir, \"data\", \"DIC-C2DH-HeLa-test.zip\")\n",
    "!wget http://data.celltrackingchallenge.net/test-datasets/DIC-C2DH-HeLa.zip -O $zip_path\n",
    "    \n",
    "trg_dir = os.path.join(root_dir, \"data\", \"test\")\n",
    "os.makedirs(trg_dir, exist_ok=True)\n",
    "!unzip $zip_path -d trg_dir"
   ]
  },
  {
   "cell_type": "code",
   "execution_count": null,
   "id": "0ff6953a",
   "metadata": {
    "collapsed": false,
    "execution": {
     "iopub.execute_input": "2024-05-19T12:51:19.310361Z",
     "iopub.status.busy": "2024-05-19T12:51:19.310040Z",
     "iopub.status.idle": "2024-05-19T12:51:34.400300Z",
     "shell.execute_reply": "2024-05-19T12:51:34.399432Z",
     "shell.execute_reply.started": "2024-05-19T12:51:19.310332Z"
    },
    "jupyter": {
     "outputs_hidden": false
    }
   },
   "outputs": [],
   "source": [
    "assert os.path.exists(best_checkpoint), \"Please train the model first to run inference on the finetuned model.\"\n",
    "assert train_instance_segmentation is True, \"Oops. You didn't opt for finetuning using the decoder-based automatic instance segmentation.\"\n",
    "\n",
    "# # Let's check the first 5 images. Feel free to comment out the line below to run inference on all images.\n",
    "image_paths = image_paths[:5]\n",
    "\n",
    "for image_path in image_paths:\n",
    "    image = imageio.imread(image_path)\n",
    "    \n",
    "    # Predicted instances\n",
    "    prediction = run_automatic_instance_segmentation(\n",
    "        image=image,\n",
    "        checkpoint_path=best_checkpoint,\n",
    "        model_type=model_type,\n",
    "        device=device\n",
    "    )\n",
    "\n",
    "    # Visualize the predictions\n",
    "    fig, ax = plt.subplots(1, 2, figsize=(10, 10))\n",
    "\n",
    "    ax[0].imshow(image, cmap=\"gray\")\n",
    "    ax[0].axis(\"off\")\n",
    "    ax[0].set_title(\"Input Image\")\n",
    "\n",
    "    ax[1].imshow(prediction, cmap=get_random_colors(prediction), interpolation=\"nearest\")\n",
    "    ax[1].axis(\"off\")\n",
    "    ax[1].set_title(\"Predictions (AIS)\")\n",
    "\n",
    "    plt.show()\n",
    "    plt.close()"
   ]
  },
  {
   "cell_type": "markdown",
   "id": "0cf1ff61",
   "metadata": {},
   "source": [
    "### What next?\n",
    "\n",
    "It's time to get started with your custom finetuned model using the annotator tool. Here is the documentation on how to get started with `µsam`: [Annotation Tools](https://computational-cell-analytics.github.io/micro-sam/micro_sam.html#annotation-tools)\n",
    "\n",
    "Happy annotating!"
   ]
  },
  {
   "cell_type": "markdown",
   "id": "32436206",
   "metadata": {},
   "source": [
    "*This notebook was last ran on May 19, 2024*"
   ]
  }
 ],
 "metadata": {
  "kaggle": {
   "accelerator": "gpu",
   "dataSources": [],
   "dockerImageVersionId": 30699,
   "isGpuEnabled": true,
   "isInternetEnabled": true,
   "language": "python",
   "sourceType": "notebook"
  },
  "kernelspec": {
   "display_name": "Python 3",
   "language": "python",
   "name": "python3"
  },
  "language_info": {
   "codemirror_mode": {
    "name": "ipython",
    "version": 3
   },
   "file_extension": ".py",
   "mimetype": "text/x-python",
   "name": "python",
   "nbconvert_exporter": "python",
   "pygments_lexer": "ipython3",
   "version": "3.10.13"
  }
 },
 "nbformat": 4,
 "nbformat_minor": 5
}
